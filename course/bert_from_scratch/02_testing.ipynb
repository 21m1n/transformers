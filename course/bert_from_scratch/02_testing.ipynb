{
 "metadata": {
  "language_info": {
   "codemirror_mode": {
    "name": "ipython",
    "version": 3
   },
   "file_extension": ".py",
   "mimetype": "text/x-python",
   "name": "python",
   "nbconvert_exporter": "python",
   "pygments_lexer": "ipython3",
   "version": "3.8.5"
  },
  "orig_nbformat": 2,
  "kernelspec": {
   "name": "ml_test",
   "display_name": "ML test",
   "language": "python"
  }
 },
 "nbformat": 4,
 "nbformat_minor": 2,
 "cells": [
  {
   "source": [
    "# File-Mask Testing\n",
    "\n",
    "In this notebook we'll setup a fill-mask pipeline so we can test our new model qualitatively."
   ],
   "cell_type": "markdown",
   "metadata": {}
  },
  {
   "cell_type": "code",
   "execution_count": 30,
   "metadata": {},
   "outputs": [],
   "source": [
    "from transformers import pipeline"
   ]
  },
  {
   "cell_type": "code",
   "execution_count": 31,
   "metadata": {},
   "outputs": [
    {
     "output_type": "stream",
     "name": "stderr",
     "text": [
      "Some weights of RobertaModel were not initialized from the model checkpoint at filiberto and are newly initialized: ['roberta.pooler.dense.weight', 'roberta.pooler.dense.bias']\nYou should probably TRAIN this model on a down-stream task to be able to use it for predictions and inference.\n"
     ]
    }
   ],
   "source": [
    "fill = pipeline('fill-mask', model='filiberto', tokenizer='filiberto')"
   ]
  },
  {
   "cell_type": "code",
   "execution_count": 32,
   "metadata": {},
   "outputs": [
    {
     "output_type": "execute_result",
     "data": {
      "text/plain": [
       "[{'sequence': '<s>ciao va?</s>',\n",
       "  'score': 0.050819795578718185,\n",
       "  'token': 1,\n",
       "  'token_str': '<pad>'},\n",
       " {'sequence': '<s>ciao King va?</s>',\n",
       "  'score': 0.00024002330610528588,\n",
       "  'token': 14076,\n",
       "  'token_str': 'ĠKing'},\n",
       " {'sequence': '<s>ciaoomito va?</s>',\n",
       "  'score': 0.00019459296891000122,\n",
       "  'token': 16108,\n",
       "  'token_str': 'omito'},\n",
       " {'sequence': '<s>ciaoessioni va?</s>',\n",
       "  'score': 0.0001941353257279843,\n",
       "  'token': 6628,\n",
       "  'token_str': 'essioni'},\n",
       " {'sequence': '<s>ciao Studi va?</s>',\n",
       "  'score': 0.00019390125817153603,\n",
       "  'token': 4833,\n",
       "  'token_str': 'ĠStudi'}]"
      ]
     },
     "metadata": {},
     "execution_count": 32
    }
   ],
   "source": [
    "fill(f'ciao {fill.tokenizer.mask_token} va?')"
   ]
  }
 ]
}