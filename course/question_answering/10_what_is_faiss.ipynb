{
 "cells": [
  {
   "cell_type": "markdown",
   "metadata": {},
   "source": [
    "# What is FAISS\n",
    "\n",
    "**Facebook AI Similarity Search** (FAISS) is a more efficient implementation of *similarity searching* that can be used to efficiently scale to millions of samples without issue.\n",
    "\n",
    "Similarity search typically works by creating vectors from data, these vectors are represented as *points* in a highly-dimensional space (so like points in a 3D chart, but with 100+ dimensions).\n",
    "\n",
    "We can then introduce a new vector and search for similiar entries by comparing where it is within that highly dimensional space to all of the other vectors, often using Euclidean distance or cosine similarity calculations."
   ]
  },
  {
   "cell_type": "code",
   "execution_count": null,
   "metadata": {},
   "outputs": [],
   "source": []
  }
 ],
 "metadata": {
  "kernelspec": {
   "display_name": "ML",
   "language": "python",
   "name": "ml"
  },
  "language_info": {
   "codemirror_mode": {
    "name": "ipython",
    "version": 3
   },
   "file_extension": ".py",
   "mimetype": "text/x-python",
   "name": "python",
   "nbconvert_exporter": "python",
   "pygments_lexer": "ipython3",
   "version": "3.8.5"
  }
 },
 "nbformat": 4,
 "nbformat_minor": 4
}
