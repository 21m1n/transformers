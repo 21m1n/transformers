{
 "cells": [
  {
   "cell_type": "markdown",
   "id": "molecular-merit",
   "metadata": {},
   "source": [
    "# Question and Answering with Transformers\n",
    "\n",
    "Question and answering is one of the most diverse and fast-moving areas of development in the world of transformers. In this notebook we will summarize a few of the key topics that we will later cover.\n",
    "\n",
    "## Types of Model\n",
    "\n",
    "**Open-Domain vs Reading Comprehension** - in QA we will often find that models will recieve a question, and (sometimes) extract an answer from a *context*. In the cases where this context is provided to the model alongside the question, eg:\n",
    "\n",
    "```json\n",
    "{\n",
    "    'question': '"
   ]
  }
 ],
 "metadata": {
  "kernelspec": {
   "display_name": "ML",
   "language": "python",
   "name": "ml"
  },
  "language_info": {
   "name": ""
  }
 },
 "nbformat": 4,
 "nbformat_minor": 5
}
